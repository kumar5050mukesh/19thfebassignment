{
 "cells": [
  {
   "cell_type": "code",
   "execution_count": 1,
   "metadata": {},
   "outputs": [
    {
     "data": {
      "text/plain": [
       "'Q1. What is Flask Framework? What are the advantages of Flask Framework?\\nQ2. Create a simple Flask application to display ‘Hello World!!’. Attach the screenshot of the output in\\nJupyter Notebook.\\nQ3. What is App routing in Flask? Why do we use app routes?\\nQ4. Create a “/welcome” route to display the welcome message “Welcome to ABC Corporation” and a “/”\\nroute to show the following details:\\nCompany Name: ABC Corporation\\nLocation: India\\nContact Detail: 999-999-9999\\nAttach the screenshot of the output in Jupyter Notebook.\\nQ5. What function is used in Flask for URL Building? Write a Python code to demonstrate the working of the\\nurl_for() function.'"
      ]
     },
     "execution_count": 1,
     "metadata": {},
     "output_type": "execute_result"
    }
   ],
   "source": [
    "'''Q1. What is Flask Framework? What are the advantages of Flask Framework?\n",
    "Q2. Create a simple Flask application to display ‘Hello World!!’. Attach the screenshot of the output in\n",
    "Jupyter Notebook.\n",
    "Q3. What is App routing in Flask? Why do we use app routes?\n",
    "Q4. Create a “/welcome” route to display the welcome message “Welcome to ABC Corporation” and a “/”\n",
    "route to show the following details:\n",
    "Company Name: ABC Corporation\n",
    "Location: India\n",
    "Contact Detail: 999-999-9999\n",
    "Attach the screenshot of the output in Jupyter Notebook.\n",
    "Q5. What function is used in Flask for URL Building? Write a Python code to demonstrate the working of the\n",
    "url_for() function.'''\n",
    "\n"
   ]
  },
  {
   "cell_type": "code",
   "execution_count": 2,
   "metadata": {},
   "outputs": [
    {
     "data": {
      "text/plain": [
       "'ANS(1)flask is a framework for the development of web applications the advantage of the flask framework is it is \\nlightweight easy to learn ,flask has active community of the developers'"
      ]
     },
     "execution_count": 2,
     "metadata": {},
     "output_type": "execute_result"
    }
   ],
   "source": [
    "'''ANS(1)flask is a framework for the development of web applications the advantage of the flask framework is it is \n",
    "lightweight easy to learn ,flask has active community of the developers'''\n"
   ]
  },
  {
   "attachments": {},
   "cell_type": "markdown",
   "metadata": {},
   "source": [
    "![](img3.png)"
   ]
  },
  {
   "cell_type": "code",
   "execution_count": 8,
   "metadata": {},
   "outputs": [
    {
     "data": {
      "text/plain": [
       "\"ans 3\\n\\n@app.route('/')\\nthe .route method will get output of function at  http://127.0.0.1:5000/\\n\\n@app.route('/home')\\nthe .route method will get output of function at  http://127.0.0.1:5000/home\\n\\n@app.route('/contact')\\nthe .route method will get output of function at  http://127.0.0.1:5000/contact\\n\\nApp routing is for  behavior for navigating to different pages or views within the app.\\n Routing allows developers to define the URLs that will be used to access different parts of the application \\n\\n It also allows developers to organize their application\\n into different views or pages, each with its own unique URL.\\n  \\n\\n application with specific urls are only accessible to users with certain privileges or permissions\\n\\n\\n\\n\\n\""
      ]
     },
     "execution_count": 8,
     "metadata": {},
     "output_type": "execute_result"
    }
   ],
   "source": [
    "'''ans 3\n",
    "\n",
    "@app.route('/')\n",
    "the .route method will get output of function at  http://127.0.0.1:5000/\n",
    "\n",
    "@app.route('/home')\n",
    "the .route method will get output of function at  http://127.0.0.1:5000/home\n",
    "\n",
    "@app.route('/contact')\n",
    "the .route method will get output of function at  http://127.0.0.1:5000/contact\n",
    "\n",
    "App routing is for  behavior for navigating to different pages or views within the app.\n",
    " Routing allows developers to define the URLs that will be used to access different parts of the application \n",
    "\n",
    " It also allows developers to organize their application\n",
    " into different views or pages, each with its own unique URL.\n",
    "  \n",
    "\n",
    " application with specific urls are only accessible to users with certain privileges or permissions\n",
    "\n",
    "\n",
    "\n",
    "\n",
    "'''"
   ]
  },
  {
   "cell_type": "code",
   "execution_count": null,
   "metadata": {},
   "outputs": [],
   "source": [
    "'''Q4. Create a “/welcome” route to display the welcome message “Welcome to ABC Corporation” and a “/”\n",
    "route to show the following details:\n",
    "Company Name: ABC Corporation\n",
    "Location: India\n",
    "Contact Detail: 999-999-9999\n",
    "Attach the screenshot of the output in Jupyter Notebook.'''\n",
    "'''ans 4'''\n",
    "\n",
    "\n",
    "\n",
    "\n",
    "\n",
    "\n",
    "\n",
    "\n"
   ]
  },
  {
   "attachments": {},
   "cell_type": "markdown",
   "metadata": {},
   "source": [
    "[](img4.png)"
   ]
  },
  {
   "attachments": {},
   "cell_type": "markdown",
   "metadata": {},
   "source": [
    "![](img5.png)"
   ]
  },
  {
   "attachments": {},
   "cell_type": "markdown",
   "metadata": {},
   "source": [
    "![](img6.png)"
   ]
  },
  {
   "cell_type": "code",
   "execution_count": null,
   "metadata": {},
   "outputs": [],
   "source": [
    "from flask import Flask, url_for\n",
    "\n",
    "app = Flask(__name__)\n",
    "\n",
    "@app.route('/')\n",
    "def index():\n",
    "    return 'This is the homepage'\n",
    "\n",
    "@app.route('/about')\n",
    "def about():\n",
    "    return 'This is the about page'\n",
    "\n",
    "@app.route('/user/<username>')\n",
    "def user_profile(username):\n",
    "    return f'Hello {username}, welcome to your profile page!'\n",
    "\n",
    "if __name__ == '__main__':\n",
    "    with app.test_request_context():\n",
    "        print(url_for('index'))  \n",
    "        print(url_for('about'))  \n",
    "        print(url_for('user_profile', username='John')) \n",
    "\n",
    "'''url_for() function is used to create the dynamaically coded urls thus it makes program scalable and easy to use'''"
   ]
  },
  {
   "cell_type": "code",
   "execution_count": null,
   "metadata": {},
   "outputs": [],
   "source": []
  }
 ],
 "metadata": {
  "kernelspec": {
   "display_name": "env",
   "language": "python",
   "name": "python3"
  },
  "language_info": {
   "codemirror_mode": {
    "name": "ipython",
    "version": 3
   },
   "file_extension": ".py",
   "mimetype": "text/x-python",
   "name": "python",
   "nbconvert_exporter": "python",
   "pygments_lexer": "ipython3",
   "version": "3.11.1"
  },
  "orig_nbformat": 4,
  "vscode": {
   "interpreter": {
    "hash": "bcf5afc3e2ce40d2bcdb5036b2a73206fa9a8bb2672e0aa64c0b5298dbc527db"
   }
  }
 },
 "nbformat": 4,
 "nbformat_minor": 2
}
